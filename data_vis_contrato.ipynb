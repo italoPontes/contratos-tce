{
 "cells": [
  {
   "cell_type": "code",
   "execution_count": 1,
   "metadata": {},
   "outputs": [
    {
     "data": {
      "text/html": [
       "<div>\n",
       "<style scoped>\n",
       "    .dataframe tbody tr th:only-of-type {\n",
       "        vertical-align: middle;\n",
       "    }\n",
       "\n",
       "    .dataframe tbody tr th {\n",
       "        vertical-align: top;\n",
       "    }\n",
       "\n",
       "    .dataframe thead th {\n",
       "        text-align: right;\n",
       "    }\n",
       "</style>\n",
       "<table border=\"1\" class=\"dataframe\">\n",
       "  <thead>\n",
       "    <tr style=\"text-align: right;\">\n",
       "      <th></th>\n",
       "      <th>poder</th>\n",
       "      <th>ente</th>\n",
       "      <th>cod_unidade_gestora_contrato</th>\n",
       "      <th>unidade_gestora</th>\n",
       "      <th>cod_modalidade_licitacao</th>\n",
       "      <th>modalidade_licitacao</th>\n",
       "      <th>numero_licitacao</th>\n",
       "      <th>numero_regcge</th>\n",
       "      <th>esfera</th>\n",
       "      <th>cpf_cnpj_licitante</th>\n",
       "      <th>...</th>\n",
       "      <th>tipo_protocolo_contrato</th>\n",
       "      <th>numero_protocolo_licitacao</th>\n",
       "      <th>tipo_protocolo_licitacao</th>\n",
       "      <th>data_assinatura</th>\n",
       "      <th>data_publicacao</th>\n",
       "      <th>data_finalizacao</th>\n",
       "      <th>valor_contratado</th>\n",
       "      <th>valor_proposta</th>\n",
       "      <th>descricao_contrato</th>\n",
       "      <th>informacao_complementar</th>\n",
       "    </tr>\n",
       "  </thead>\n",
       "  <tbody>\n",
       "    <tr>\n",
       "      <th>0</th>\n",
       "      <td>Executivo</td>\n",
       "      <td>Malta</td>\n",
       "      <td>201109</td>\n",
       "      <td>Prefeitura Municipal de Malta</td>\n",
       "      <td>7</td>\n",
       "      <td>Pregão Eletrônico (Lei Nº 10.520/2002)</td>\n",
       "      <td>00011/2023</td>\n",
       "      <td>Não Informado</td>\n",
       "      <td>Municipal</td>\n",
       "      <td>5816684000207</td>\n",
       "      <td>...</td>\n",
       "      <td>Documento</td>\n",
       "      <td>56554/23</td>\n",
       "      <td>Documento</td>\n",
       "      <td>2024-04-12</td>\n",
       "      <td>2024-04-15</td>\n",
       "      <td>2024-12-31</td>\n",
       "      <td>118125,0</td>\n",
       "      <td>118125,0</td>\n",
       "      <td>Aquisição de forma parcelada de equipamentos d...</td>\n",
       "      <td>NaN</td>\n",
       "    </tr>\n",
       "    <tr>\n",
       "      <th>1</th>\n",
       "      <td>Executivo</td>\n",
       "      <td>GOVERNO DO ESTADO DA PARAÍBA</td>\n",
       "      <td>260101</td>\n",
       "      <td>Departamento Estadual de Trânsito</td>\n",
       "      <td>22</td>\n",
       "      <td>Inexigibilidade (Lei Nº 14.133/2021)</td>\n",
       "      <td>00031/2023</td>\n",
       "      <td>23031453</td>\n",
       "      <td>Estadual</td>\n",
       "      <td>33113309000147</td>\n",
       "      <td>...</td>\n",
       "      <td>Documento</td>\n",
       "      <td>129669/23</td>\n",
       "      <td>Documento</td>\n",
       "      <td>2023-12-28</td>\n",
       "      <td>2024-01-06</td>\n",
       "      <td>2024-07-17</td>\n",
       "      <td>10316045,76</td>\n",
       "      <td>10316045,76</td>\n",
       "      <td>PRESTAÇÃO DOS SERVIÇOS TÉCNICOS DE TI DE GESTÃ...</td>\n",
       "      <td>NaN</td>\n",
       "    </tr>\n",
       "    <tr>\n",
       "      <th>2</th>\n",
       "      <td>Executivo</td>\n",
       "      <td>GOVERNO DO ESTADO DA PARAÍBA</td>\n",
       "      <td>260101</td>\n",
       "      <td>Departamento Estadual de Trânsito</td>\n",
       "      <td>21</td>\n",
       "      <td>Dispensa (Lei Nº 14.133/2021)</td>\n",
       "      <td>00030/2023</td>\n",
       "      <td>23031643</td>\n",
       "      <td>Estadual</td>\n",
       "      <td>15286959000102</td>\n",
       "      <td>...</td>\n",
       "      <td>Documento</td>\n",
       "      <td>129672/23</td>\n",
       "      <td>Documento</td>\n",
       "      <td>2023-12-28</td>\n",
       "      <td>2024-01-06</td>\n",
       "      <td>2025-01-09</td>\n",
       "      <td>24056401,32</td>\n",
       "      <td>24056401,32</td>\n",
       "      <td>CONTRATAÇÃO DE SERVIÇOS DE FABRICAÇÃO, INSTALA...</td>\n",
       "      <td>NaN</td>\n",
       "    </tr>\n",
       "  </tbody>\n",
       "</table>\n",
       "<p>3 rows × 23 columns</p>\n",
       "</div>"
      ],
      "text/plain": [
       "       poder                          ente  cod_unidade_gestora_contrato  \\\n",
       "0  Executivo                         Malta                        201109   \n",
       "1  Executivo  GOVERNO DO ESTADO DA PARAÍBA                        260101   \n",
       "2  Executivo  GOVERNO DO ESTADO DA PARAÍBA                        260101   \n",
       "\n",
       "                     unidade_gestora  cod_modalidade_licitacao  \\\n",
       "0      Prefeitura Municipal de Malta                         7   \n",
       "1  Departamento Estadual de Trânsito                        22   \n",
       "2  Departamento Estadual de Trânsito                        21   \n",
       "\n",
       "                     modalidade_licitacao numero_licitacao  numero_regcge  \\\n",
       "0  Pregão Eletrônico (Lei Nº 10.520/2002)       00011/2023  Não Informado   \n",
       "1    Inexigibilidade (Lei Nº 14.133/2021)       00031/2023       23031453   \n",
       "2           Dispensa (Lei Nº 14.133/2021)       00030/2023       23031643   \n",
       "\n",
       "      esfera  cpf_cnpj_licitante  ... tipo_protocolo_contrato  \\\n",
       "0  Municipal       5816684000207  ...               Documento   \n",
       "1   Estadual      33113309000147  ...               Documento   \n",
       "2   Estadual      15286959000102  ...               Documento   \n",
       "\n",
       "   numero_protocolo_licitacao tipo_protocolo_licitacao data_assinatura  \\\n",
       "0                    56554/23                Documento      2024-04-12   \n",
       "1                   129669/23                Documento      2023-12-28   \n",
       "2                   129672/23                Documento      2023-12-28   \n",
       "\n",
       "  data_publicacao data_finalizacao valor_contratado valor_proposta  \\\n",
       "0      2024-04-15       2024-12-31         118125,0       118125,0   \n",
       "1      2024-01-06       2024-07-17      10316045,76    10316045,76   \n",
       "2      2024-01-06       2025-01-09      24056401,32    24056401,32   \n",
       "\n",
       "                                  descricao_contrato informacao_complementar  \n",
       "0  Aquisição de forma parcelada de equipamentos d...                     NaN  \n",
       "1  PRESTAÇÃO DOS SERVIÇOS TÉCNICOS DE TI DE GESTÃ...                     NaN  \n",
       "2  CONTRATAÇÃO DE SERVIÇOS DE FABRICAÇÃO, INSTALA...                     NaN  \n",
       "\n",
       "[3 rows x 23 columns]"
      ]
     },
     "execution_count": 1,
     "metadata": {},
     "output_type": "execute_result"
    }
   ],
   "source": [
    "import pandas as pd\n",
    "\n",
    "input_file = 'TCE-PB-Contratos_2024.csv'\n",
    "\n",
    "df = pd.read_csv(input_file, sep=';', encoding='latin-1')\n",
    "\n",
    "df.head(3)"
   ]
  },
  {
   "cell_type": "code",
   "execution_count": 10,
   "metadata": {},
   "outputs": [
    {
     "data": {
      "text/plain": [
       "6376"
      ]
     },
     "execution_count": 10,
     "metadata": {},
     "output_type": "execute_result"
    }
   ],
   "source": [
    "df['cpf_cnpj_licitante'].nunique()"
   ]
  },
  {
   "cell_type": "code",
   "execution_count": 8,
   "metadata": {},
   "outputs": [
    {
     "data": {
      "text/plain": [
       "882"
      ]
     },
     "execution_count": 8,
     "metadata": {},
     "output_type": "execute_result"
    }
   ],
   "source": [
    "df['numero_licitacao'].nunique()"
   ]
  },
  {
   "cell_type": "code",
   "execution_count": 6,
   "metadata": {},
   "outputs": [
    {
     "data": {
      "text/plain": [
       "21"
      ]
     },
     "execution_count": 6,
     "metadata": {},
     "output_type": "execute_result"
    }
   ],
   "source": [
    "df['cod_modalidade_licitacao'].nunique()"
   ]
  },
  {
   "cell_type": "code",
   "execution_count": 3,
   "metadata": {},
   "outputs": [
    {
     "data": {
      "text/plain": [
       "512"
      ]
     },
     "execution_count": 3,
     "metadata": {},
     "output_type": "execute_result"
    }
   ],
   "source": [
    "df['ente'].nunique()"
   ]
  },
  {
   "cell_type": "code",
   "execution_count": 11,
   "metadata": {},
   "outputs": [],
   "source": [
    "def convert_float(value):\n",
    "    try:\n",
    "        new_value = str(value)\n",
    "        new_value = new_value.replace(',', '.')\n",
    "        new_value = float(new_value)\n",
    "        return new_value\n",
    "    except:\n",
    "        return value\n",
    "\n",
    "df['valor_contratado'] = df['valor_contratado'].apply(lambda x: convert_float(x))"
   ]
  },
  {
   "cell_type": "code",
   "execution_count": 13,
   "metadata": {},
   "outputs": [
    {
     "ename": "NameError",
     "evalue": "name 'st' is not defined",
     "output_type": "error",
     "traceback": [
      "\u001b[0;31m---------------------------------------------------------------------------\u001b[0m",
      "\u001b[0;31mNameError\u001b[0m                                 Traceback (most recent call last)",
      "Cell \u001b[0;32mIn[13], line 18\u001b[0m\n\u001b[1;32m     16\u001b[0m df_top[column_analysis] \u001b[38;5;241m=\u001b[39m \u001b[38;5;28mround\u001b[39m(df_top[column_analysis], \u001b[38;5;241m2\u001b[39m)\n\u001b[1;32m     17\u001b[0m df_top[\u001b[38;5;124m'\u001b[39m\u001b[38;5;124mProporção\u001b[39m\u001b[38;5;124m'\u001b[39m] \u001b[38;5;241m=\u001b[39m \u001b[38;5;28mround\u001b[39m(df_top[column_analysis]\u001b[38;5;241m/\u001b[39mglobal_mean, \u001b[38;5;241m1\u001b[39m)\n\u001b[0;32m---> 18\u001b[0m st\u001b[38;5;241m.\u001b[39mtext(map_text[column])\n\u001b[1;32m     19\u001b[0m st\u001b[38;5;241m.\u001b[39mdataframe(df_top)\n",
      "\u001b[0;31mNameError\u001b[0m: name 'st' is not defined"
     ]
    }
   ],
   "source": [
    "top_k = 10\n",
    "\n",
    "column_analysis = 'valor_contratado'\n",
    "global_mean = df[column_analysis].mean()\n",
    "\n",
    "map_text = {\n",
    "    'cpf_cnpj_licitante': f'Top {top_k} valores por CPF/CNPJ Licitante em relação a média',\n",
    "    'numero_licitacao': f'Top {top_k} valores por Número de Licitação em relação a média',\n",
    "    'ente': f'Top {top_k} valores por Ente em relação a média',\n",
    "    'cod_modalidade_licitacao': f'Top {top_k} Código Modalidade de Licitação por Ente em relação a média'}\n",
    "\n",
    "for column in ['cpf_cnpj_licitante', 'numero_licitacao',\n",
    "                'ente', 'cod_modalidade_licitacao']:\n",
    "    df_top = df.groupby(column)[column_analysis].mean()\n",
    "    df_top = pd.DataFrame(df_top.nlargest(top_k).reset_index())\n",
    "    df_top[column_analysis] = round(df_top[column_analysis], 2)\n",
    "    df_top['Proporção'] = round(df_top[column_analysis]/global_mean, 1)\n",
    "    st.text(map_text[column])\n",
    "    st.dataframe(df_top)"
   ]
  },
  {
   "cell_type": "code",
   "execution_count": null,
   "metadata": {},
   "outputs": [],
   "source": []
  }
 ],
 "metadata": {
  "kernelspec": {
   "display_name": "ceos",
   "language": "python",
   "name": "python3"
  },
  "language_info": {
   "codemirror_mode": {
    "name": "ipython",
    "version": 3
   },
   "file_extension": ".py",
   "mimetype": "text/x-python",
   "name": "python",
   "nbconvert_exporter": "python",
   "pygments_lexer": "ipython3",
   "version": "3.12.2"
  }
 },
 "nbformat": 4,
 "nbformat_minor": 2
}
